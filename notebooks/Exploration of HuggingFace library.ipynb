{
 "cells": [
  {
   "cell_type": "code",
   "execution_count": 2,
   "metadata": {
    "ExecuteTime": {
     "end_time": "2021-01-17T18:41:17.617933Z",
     "start_time": "2021-01-17T18:41:13.401068Z"
    }
   },
   "outputs": [],
   "source": [
    "# Base Data Science snippet\n",
    "import pandas as pd\n",
    "import numpy as np\n",
    "import matplotlib.pyplot as plt\n",
    "import os\n",
    "import time\n",
    "from tqdm import tqdm_notebook\n",
    "\n",
    "%matplotlib inline\n",
    "%load_ext autoreload\n",
    "%autoreload 2"
   ]
  },
  {
   "cell_type": "markdown",
   "metadata": {},
   "source": [
    "# Get articles data from Airtable"
   ]
  },
  {
   "cell_type": "code",
   "execution_count": 5,
   "metadata": {
    "ExecuteTime": {
     "end_time": "2021-01-17T18:58:57.808138Z",
     "start_time": "2021-01-17T18:58:57.729069Z"
    }
   },
   "outputs": [
    {
     "data": {
      "text/plain": [
       "True"
      ]
     },
     "execution_count": 5,
     "metadata": {},
     "output_type": "execute_result"
    }
   ],
   "source": [
    "from dotenv import load_dotenv\n",
    "load_dotenv(\"../.env\")"
   ]
  },
  {
   "cell_type": "code",
   "execution_count": 10,
   "metadata": {
    "ExecuteTime": {
     "end_time": "2021-01-17T19:01:31.989223Z",
     "start_time": "2021-01-17T19:01:31.901904Z"
    }
   },
   "outputs": [],
   "source": [
    "from airtable import Airtable\n",
    "\n",
    "KEY = os.getenv(\"AIRTABLE_KEY\")\n",
    "BASE = os.getenv(\"AIRTABLE_BASE\")\n",
    "airtable = Airtable(BASE,\"Articles\",KEY)"
   ]
  },
  {
   "cell_type": "code",
   "execution_count": 12,
   "metadata": {
    "ExecuteTime": {
     "end_time": "2021-01-17T19:02:13.005287Z",
     "start_time": "2021-01-17T19:02:12.461953Z"
    }
   },
   "outputs": [],
   "source": [
    "data = pd.DataFrame([x[\"fields\"] for x in airtable.get_all()])"
   ]
  },
  {
   "cell_type": "code",
   "execution_count": 14,
   "metadata": {
    "ExecuteTime": {
     "end_time": "2021-01-17T19:02:28.002729Z",
     "start_time": "2021-01-17T19:02:27.900968Z"
    }
   },
   "outputs": [
    {
     "data": {
      "text/html": [
       "<div>\n",
       "<style scoped>\n",
       "    .dataframe tbody tr th:only-of-type {\n",
       "        vertical-align: middle;\n",
       "    }\n",
       "\n",
       "    .dataframe tbody tr th {\n",
       "        vertical-align: top;\n",
       "    }\n",
       "\n",
       "    .dataframe thead th {\n",
       "        text-align: right;\n",
       "    }\n",
       "</style>\n",
       "<table border=\"1\" class=\"dataframe\">\n",
       "  <thead>\n",
       "    <tr style=\"text-align: right;\">\n",
       "      <th></th>\n",
       "      <th>title</th>\n",
       "      <th>image</th>\n",
       "      <th>summary</th>\n",
       "      <th>url</th>\n",
       "      <th>lang</th>\n",
       "      <th>word_count</th>\n",
       "      <th>time_to_read</th>\n",
       "      <th>Field 9</th>\n",
       "      <th>tags</th>\n",
       "      <th>notes</th>\n",
       "    </tr>\n",
       "  </thead>\n",
       "  <tbody>\n",
       "    <tr>\n",
       "      <th>0</th>\n",
       "      <td>(4) [D] Why I'm Lukewarm on Graph Neural Netwo...</td>\n",
       "      <td>https://external-preview.redd.it/Y83Mq1E2CsANI...</td>\n",
       "      <td>I'm only lukewarm on Graph Neural Networks (GN...</td>\n",
       "      <td>https://www.reddit.com/r/MachineLearning/comme...</td>\n",
       "      <td>en</td>\n",
       "      <td>2796</td>\n",
       "      <td>13</td>\n",
       "      <td>2021-01-10T20:03:09.000Z</td>\n",
       "      <td>NaN</td>\n",
       "      <td>NaN</td>\n",
       "    </tr>\n",
       "    <tr>\n",
       "      <th>1</th>\n",
       "      <td>Neural networks for algorithmic trading. Multi...</td>\n",
       "      <td>https://miro.medium.com/max/711/0*IlqCwWiYaH5a...</td>\n",
       "      <td>In previous post we discussed several ways to ...</td>\n",
       "      <td>https://medium.com/@alexrachnog/neural-network...</td>\n",
       "      <td>en</td>\n",
       "      <td>1226</td>\n",
       "      <td>6</td>\n",
       "      <td>2021-01-03T21:58:06.000Z</td>\n",
       "      <td>[deep learning, time series, finance]</td>\n",
       "      <td>NaN</td>\n",
       "    </tr>\n",
       "    <tr>\n",
       "      <th>2</th>\n",
       "      <td>Transformers are Graph Neural Networks</td>\n",
       "      <td>https://thegradient.pub/content/images/2020/09...</td>\n",
       "      <td>My engineering friends often ask me: deep lear...</td>\n",
       "      <td>https://thegradient.pub/transformers-are-graph...</td>\n",
       "      <td>en</td>\n",
       "      <td>2725</td>\n",
       "      <td>12</td>\n",
       "      <td>2021-01-10T19:48:29.000Z</td>\n",
       "      <td>[graph neural networks, transformers]</td>\n",
       "      <td>NaN</td>\n",
       "    </tr>\n",
       "    <tr>\n",
       "      <th>3</th>\n",
       "      <td>Tensorial-Professor Anima on AI</td>\n",
       "      <td>https://s0.wp.com/i/blank.jpg</td>\n",
       "      <td>I recently exited out of my role as principal ...</td>\n",
       "      <td>https://anima-ai.org/</td>\n",
       "      <td>en</td>\n",
       "      <td>1044</td>\n",
       "      <td>5</td>\n",
       "      <td>2021-01-10T20:03:10.000Z</td>\n",
       "      <td>NaN</td>\n",
       "      <td>NaN</td>\n",
       "    </tr>\n",
       "    <tr>\n",
       "      <th>4</th>\n",
       "      <td>Machine Learning: The Great Stagnation - Mark ...</td>\n",
       "      <td>https://cdn.substack.com/image/fetch/h_600,c_l...</td>\n",
       "      <td>Academics think of themselves as trailblazers,...</td>\n",
       "      <td>https://marksaroufim.substack.com/p/machine-le...</td>\n",
       "      <td>en</td>\n",
       "      <td>3354</td>\n",
       "      <td>15</td>\n",
       "      <td>2021-01-15T16:41:27.000Z</td>\n",
       "      <td>NaN</td>\n",
       "      <td>NaN</td>\n",
       "    </tr>\n",
       "  </tbody>\n",
       "</table>\n",
       "</div>"
      ],
      "text/plain": [
       "                                               title  \\\n",
       "0  (4) [D] Why I'm Lukewarm on Graph Neural Netwo...   \n",
       "1  Neural networks for algorithmic trading. Multi...   \n",
       "2             Transformers are Graph Neural Networks   \n",
       "3                    Tensorial-Professor Anima on AI   \n",
       "4  Machine Learning: The Great Stagnation - Mark ...   \n",
       "\n",
       "                                               image  \\\n",
       "0  https://external-preview.redd.it/Y83Mq1E2CsANI...   \n",
       "1  https://miro.medium.com/max/711/0*IlqCwWiYaH5a...   \n",
       "2  https://thegradient.pub/content/images/2020/09...   \n",
       "3                      https://s0.wp.com/i/blank.jpg   \n",
       "4  https://cdn.substack.com/image/fetch/h_600,c_l...   \n",
       "\n",
       "                                             summary  \\\n",
       "0  I'm only lukewarm on Graph Neural Networks (GN...   \n",
       "1  In previous post we discussed several ways to ...   \n",
       "2  My engineering friends often ask me: deep lear...   \n",
       "3  I recently exited out of my role as principal ...   \n",
       "4  Academics think of themselves as trailblazers,...   \n",
       "\n",
       "                                                 url lang word_count  \\\n",
       "0  https://www.reddit.com/r/MachineLearning/comme...   en       2796   \n",
       "1  https://medium.com/@alexrachnog/neural-network...   en       1226   \n",
       "2  https://thegradient.pub/transformers-are-graph...   en       2725   \n",
       "3                              https://anima-ai.org/   en       1044   \n",
       "4  https://marksaroufim.substack.com/p/machine-le...   en       3354   \n",
       "\n",
       "  time_to_read                   Field 9  \\\n",
       "0           13  2021-01-10T20:03:09.000Z   \n",
       "1            6  2021-01-03T21:58:06.000Z   \n",
       "2           12  2021-01-10T19:48:29.000Z   \n",
       "3            5  2021-01-10T20:03:10.000Z   \n",
       "4           15  2021-01-15T16:41:27.000Z   \n",
       "\n",
       "                                    tags notes  \n",
       "0                                    NaN   NaN  \n",
       "1  [deep learning, time series, finance]   NaN  \n",
       "2  [graph neural networks, transformers]   NaN  \n",
       "3                                    NaN   NaN  \n",
       "4                                    NaN   NaN  "
      ]
     },
     "execution_count": 14,
     "metadata": {},
     "output_type": "execute_result"
    }
   ],
   "source": [
    "data.head()"
   ]
  },
  {
   "cell_type": "code",
   "execution_count": 22,
   "metadata": {
    "ExecuteTime": {
     "end_time": "2021-01-17T19:13:07.445197Z",
     "start_time": "2021-01-17T19:13:07.309964Z"
    }
   },
   "outputs": [],
   "source": [
    "tags_dataset = data[[\"summary\",\"tags\"]].dropna(subset = [\"tags\"]).reset_index(drop = True)"
   ]
  },
  {
   "cell_type": "code",
   "execution_count": 23,
   "metadata": {
    "ExecuteTime": {
     "end_time": "2021-01-17T19:13:07.916164Z",
     "start_time": "2021-01-17T19:13:07.779492Z"
    }
   },
   "outputs": [
    {
     "data": {
      "text/html": [
       "<div>\n",
       "<style scoped>\n",
       "    .dataframe tbody tr th:only-of-type {\n",
       "        vertical-align: middle;\n",
       "    }\n",
       "\n",
       "    .dataframe tbody tr th {\n",
       "        vertical-align: top;\n",
       "    }\n",
       "\n",
       "    .dataframe thead th {\n",
       "        text-align: right;\n",
       "    }\n",
       "</style>\n",
       "<table border=\"1\" class=\"dataframe\">\n",
       "  <thead>\n",
       "    <tr style=\"text-align: right;\">\n",
       "      <th></th>\n",
       "      <th>summary</th>\n",
       "      <th>tags</th>\n",
       "    </tr>\n",
       "  </thead>\n",
       "  <tbody>\n",
       "    <tr>\n",
       "      <th>1</th>\n",
       "      <td>In previous post we discussed several ways to ...</td>\n",
       "      <td>[deep learning, time series, finance]</td>\n",
       "    </tr>\n",
       "    <tr>\n",
       "      <th>2</th>\n",
       "      <td>My engineering friends often ask me: deep lear...</td>\n",
       "      <td>[graph neural networks, transformers]</td>\n",
       "    </tr>\n",
       "    <tr>\n",
       "      <th>5</th>\n",
       "      <td>After talking to machine learning and infrastr...</td>\n",
       "      <td>[mlops]</td>\n",
       "    </tr>\n",
       "    <tr>\n",
       "      <th>7</th>\n",
       "      <td>As Big Data tools reshape health care, biased ...</td>\n",
       "      <td>[medicine]</td>\n",
       "    </tr>\n",
       "    <tr>\n",
       "      <th>9</th>\n",
       "      <td>Which Machine Learning Classifiers are best fo...</td>\n",
       "      <td>[small data]</td>\n",
       "    </tr>\n",
       "    <tr>\n",
       "      <th>12</th>\n",
       "      <td>Artificial intelligence has arrived in our eve...</td>\n",
       "      <td>[artificial intelligence]</td>\n",
       "    </tr>\n",
       "    <tr>\n",
       "      <th>13</th>\n",
       "      <td>In this article, we will use a Probabilistic P...</td>\n",
       "      <td>[bayesian]</td>\n",
       "    </tr>\n",
       "    <tr>\n",
       "      <th>14</th>\n",
       "      <td>In the first part of this series, we explored ...</td>\n",
       "      <td>[bayesian]</td>\n",
       "    </tr>\n",
       "    <tr>\n",
       "      <th>15</th>\n",
       "      <td>PulseSatellite is a web-based toolkit that com...</td>\n",
       "      <td>[deep learning]</td>\n",
       "    </tr>\n",
       "    <tr>\n",
       "      <th>16</th>\n",
       "      <td>One of the main ML problems is text classifica...</td>\n",
       "      <td>[nlp]</td>\n",
       "    </tr>\n",
       "    <tr>\n",
       "      <th>17</th>\n",
       "      <td>This essay provides a broad overview of the su...</td>\n",
       "      <td>[interpretability]</td>\n",
       "    </tr>\n",
       "    <tr>\n",
       "      <th>19</th>\n",
       "      <td>An autoML framework &amp; toolkit for machine lear...</td>\n",
       "      <td>[automl]</td>\n",
       "    </tr>\n",
       "    <tr>\n",
       "      <th>20</th>\n",
       "      <td>The famous paper “Attention is all you need” i...</td>\n",
       "      <td>[transformers, nlp]</td>\n",
       "    </tr>\n",
       "    <tr>\n",
       "      <th>21</th>\n",
       "      <td>This post is the third post of the NLP Text cl...</td>\n",
       "      <td>[nlp]</td>\n",
       "    </tr>\n",
       "    <tr>\n",
       "      <th>24</th>\n",
       "      <td>The USF Center for Applied Data Ethics is home...</td>\n",
       "      <td>[medicine]</td>\n",
       "    </tr>\n",
       "    <tr>\n",
       "      <th>28</th>\n",
       "      <td>The modern langage model with SOTA results on ...</td>\n",
       "      <td>[generative, nlp]</td>\n",
       "    </tr>\n",
       "    <tr>\n",
       "      <th>29</th>\n",
       "      <td>The divisive nature of today’s U.S. politics n...</td>\n",
       "      <td>[nlp, transformers, bias]</td>\n",
       "    </tr>\n",
       "    <tr>\n",
       "      <th>30</th>\n",
       "      <td>We’re introducing a neural network called CLIP...</td>\n",
       "      <td>[image to text]</td>\n",
       "    </tr>\n",
       "    <tr>\n",
       "      <th>32</th>\n",
       "      <td>Understanding what a model does not know is a ...</td>\n",
       "      <td>[bayesian, deep learning]</td>\n",
       "    </tr>\n",
       "    <tr>\n",
       "      <th>35</th>\n",
       "      <td>Machine learning and the Apache Kafka® ecosyst...</td>\n",
       "      <td>[mlops]</td>\n",
       "    </tr>\n",
       "    <tr>\n",
       "      <th>38</th>\n",
       "      <td>This year at the Neural Information Processing...</td>\n",
       "      <td>[forecasting]</td>\n",
       "    </tr>\n",
       "    <tr>\n",
       "      <th>43</th>\n",
       "      <td>🤗Datasets is a lightweight library providing m...</td>\n",
       "      <td>[nlp]</td>\n",
       "    </tr>\n",
       "    <tr>\n",
       "      <th>44</th>\n",
       "      <td>After talking to machine learning and infrastr...</td>\n",
       "      <td>[mlops]</td>\n",
       "    </tr>\n",
       "    <tr>\n",
       "      <th>46</th>\n",
       "      <td>Machine Learning algorithms are on the rise. E...</td>\n",
       "      <td>[machine learning]</td>\n",
       "    </tr>\n",
       "    <tr>\n",
       "      <th>48</th>\n",
       "      <td>DALL·E[1] is a 12-billion parameter version of...</td>\n",
       "      <td>[generative]</td>\n",
       "    </tr>\n",
       "    <tr>\n",
       "      <th>49</th>\n",
       "      <td>In the previous post, we looked at Attention –...</td>\n",
       "      <td>[transformers, nlp]</td>\n",
       "    </tr>\n",
       "    <tr>\n",
       "      <th>51</th>\n",
       "      <td>Every product in the Google Cloud family descr...</td>\n",
       "      <td>[industrialization, cloud, mlops]</td>\n",
       "    </tr>\n",
       "    <tr>\n",
       "      <th>53</th>\n",
       "      <td>When I first started studying data science, on...</td>\n",
       "      <td>[nlp]</td>\n",
       "    </tr>\n",
       "    <tr>\n",
       "      <th>54</th>\n",
       "      <td>This tutorial is adapted from a blog post by D...</td>\n",
       "      <td>[bayesian]</td>\n",
       "    </tr>\n",
       "    <tr>\n",
       "      <th>61</th>\n",
       "      <td>Deep learning algorithms have achieved state o...</td>\n",
       "      <td>[drug discovery]</td>\n",
       "    </tr>\n",
       "    <tr>\n",
       "      <th>62</th>\n",
       "      <td>Welcome to the sixth yearly edition of our Top...</td>\n",
       "      <td>[python]</td>\n",
       "    </tr>\n",
       "  </tbody>\n",
       "</table>\n",
       "</div>"
      ],
      "text/plain": [
       "                                              summary  \\\n",
       "1   In previous post we discussed several ways to ...   \n",
       "2   My engineering friends often ask me: deep lear...   \n",
       "5   After talking to machine learning and infrastr...   \n",
       "7   As Big Data tools reshape health care, biased ...   \n",
       "9   Which Machine Learning Classifiers are best fo...   \n",
       "12  Artificial intelligence has arrived in our eve...   \n",
       "13  In this article, we will use a Probabilistic P...   \n",
       "14  In the first part of this series, we explored ...   \n",
       "15  PulseSatellite is a web-based toolkit that com...   \n",
       "16  One of the main ML problems is text classifica...   \n",
       "17  This essay provides a broad overview of the su...   \n",
       "19  An autoML framework & toolkit for machine lear...   \n",
       "20  The famous paper “Attention is all you need” i...   \n",
       "21  This post is the third post of the NLP Text cl...   \n",
       "24  The USF Center for Applied Data Ethics is home...   \n",
       "28  The modern langage model with SOTA results on ...   \n",
       "29  The divisive nature of today’s U.S. politics n...   \n",
       "30  We’re introducing a neural network called CLIP...   \n",
       "32  Understanding what a model does not know is a ...   \n",
       "35  Machine learning and the Apache Kafka® ecosyst...   \n",
       "38  This year at the Neural Information Processing...   \n",
       "43  🤗Datasets is a lightweight library providing m...   \n",
       "44  After talking to machine learning and infrastr...   \n",
       "46  Machine Learning algorithms are on the rise. E...   \n",
       "48  DALL·E[1] is a 12-billion parameter version of...   \n",
       "49  In the previous post, we looked at Attention –...   \n",
       "51  Every product in the Google Cloud family descr...   \n",
       "53  When I first started studying data science, on...   \n",
       "54  This tutorial is adapted from a blog post by D...   \n",
       "61  Deep learning algorithms have achieved state o...   \n",
       "62  Welcome to the sixth yearly edition of our Top...   \n",
       "\n",
       "                                     tags  \n",
       "1   [deep learning, time series, finance]  \n",
       "2   [graph neural networks, transformers]  \n",
       "5                                 [mlops]  \n",
       "7                              [medicine]  \n",
       "9                            [small data]  \n",
       "12              [artificial intelligence]  \n",
       "13                             [bayesian]  \n",
       "14                             [bayesian]  \n",
       "15                        [deep learning]  \n",
       "16                                  [nlp]  \n",
       "17                     [interpretability]  \n",
       "19                               [automl]  \n",
       "20                    [transformers, nlp]  \n",
       "21                                  [nlp]  \n",
       "24                             [medicine]  \n",
       "28                      [generative, nlp]  \n",
       "29              [nlp, transformers, bias]  \n",
       "30                        [image to text]  \n",
       "32              [bayesian, deep learning]  \n",
       "35                                [mlops]  \n",
       "38                          [forecasting]  \n",
       "43                                  [nlp]  \n",
       "44                                [mlops]  \n",
       "46                     [machine learning]  \n",
       "48                           [generative]  \n",
       "49                    [transformers, nlp]  \n",
       "51      [industrialization, cloud, mlops]  \n",
       "53                                  [nlp]  \n",
       "54                             [bayesian]  \n",
       "61                       [drug discovery]  \n",
       "62                               [python]  "
      ]
     },
     "execution_count": 23,
     "metadata": {},
     "output_type": "execute_result"
    }
   ],
   "source": [
    "tag_dataset"
   ]
  },
  {
   "cell_type": "markdown",
   "metadata": {},
   "source": [
    "# Sentence classification\n",
    "- https://colab.research.google.com/github/abhimishra91/transformers-tutorials/blob/master/transformers_multi_label_classification.ipynb\n",
    "- https://towardsdatascience.com/transformers-for-multilabel-classification-71a1a0daf5e1"
   ]
  },
  {
   "cell_type": "markdown",
   "metadata": {},
   "source": [
    "https://huggingface.co/transformers/task_summary.html#sequence-classification"
   ]
  },
  {
   "cell_type": "code",
   "execution_count": 15,
   "metadata": {
    "ExecuteTime": {
     "end_time": "2021-01-17T19:06:46.476160Z",
     "start_time": "2021-01-17T19:06:44.888306Z"
    }
   },
   "outputs": [],
   "source": [
    "from transformers import AutoTokenizer, AutoModelForSequenceClassification\n",
    "import torch"
   ]
  },
  {
   "cell_type": "code",
   "execution_count": 16,
   "metadata": {
    "ExecuteTime": {
     "end_time": "2021-01-17T19:10:33.633227Z",
     "start_time": "2021-01-17T19:06:50.748049Z"
    }
   },
   "outputs": [
    {
     "data": {
      "application/vnd.jupyter.widget-view+json": {
       "model_id": "54ffd2b8ff15443d9232823ef08fb45c",
       "version_major": 2,
       "version_minor": 0
      },
      "text/plain": [
       "Downloading:   0%|          | 0.00/433 [00:00<?, ?B/s]"
      ]
     },
     "metadata": {},
     "output_type": "display_data"
    },
    {
     "data": {
      "application/vnd.jupyter.widget-view+json": {
       "model_id": "ad996040a79e49e081e72aa6074d9784",
       "version_major": 2,
       "version_minor": 0
      },
      "text/plain": [
       "Downloading:   0%|          | 0.00/213k [00:00<?, ?B/s]"
      ]
     },
     "metadata": {},
     "output_type": "display_data"
    },
    {
     "data": {
      "application/vnd.jupyter.widget-view+json": {
       "model_id": "2d66b6238caf411b8bbe9dd67b0ec0dc",
       "version_major": 2,
       "version_minor": 0
      },
      "text/plain": [
       "Downloading:   0%|          | 0.00/436k [00:00<?, ?B/s]"
      ]
     },
     "metadata": {},
     "output_type": "display_data"
    },
    {
     "data": {
      "application/vnd.jupyter.widget-view+json": {
       "model_id": "9c4e5dcab8594f5b8f0215958e03e0da",
       "version_major": 2,
       "version_minor": 0
      },
      "text/plain": [
       "Downloading:   0%|          | 0.00/433M [00:00<?, ?B/s]"
      ]
     },
     "metadata": {},
     "output_type": "display_data"
    }
   ],
   "source": [
    "tokenizer = AutoTokenizer.from_pretrained(\"bert-base-cased-finetuned-mrpc\")\n",
    "model = AutoModelForSequenceClassification.from_pretrained(\"bert-base-cased-finetuned-mrpc\")"
   ]
  },
  {
   "cell_type": "code",
   "execution_count": null,
   "metadata": {},
   "outputs": [],
   "source": [
    "model()"
   ]
  },
  {
   "cell_type": "code",
   "execution_count": 17,
   "metadata": {
    "ExecuteTime": {
     "end_time": "2021-01-17T19:10:57.804313Z",
     "start_time": "2021-01-17T19:10:57.542014Z"
    }
   },
   "outputs": [
    {
     "name": "stdout",
     "output_type": "stream",
     "text": [
      "not paraphrase: 10%\n",
      "is paraphrase: 90%\n",
      "not paraphrase: 94%\n",
      "is paraphrase: 6%\n"
     ]
    }
   ],
   "source": [
    "classes = [\"not paraphrase\", \"is paraphrase\"]\n",
    "sequence_0 = \"The company HuggingFace is based in New York City\"\n",
    "sequence_1 = \"Apples are especially bad for your health\"\n",
    "sequence_2 = \"HuggingFace's headquarters are situated in Manhattan\"\n",
    "paraphrase = tokenizer(sequence_0, sequence_2, return_tensors=\"pt\")\n",
    "not_paraphrase = tokenizer(sequence_0, sequence_1, return_tensors=\"pt\")\n",
    "paraphrase_classification_logits = model(**paraphrase).logits\n",
    "not_paraphrase_classification_logits = model(**not_paraphrase).logits\n",
    "paraphrase_results = torch.softmax(paraphrase_classification_logits, dim=1).tolist()[0]\n",
    "not_paraphrase_results = torch.softmax(not_paraphrase_classification_logits, dim=1).tolist()[0]\n",
    "# Should be paraphrase\n",
    "for i in range(len(classes)):\n",
    "    print(f\"{classes[i]}: {int(round(paraphrase_results[i] * 100))}%\")\n",
    "# Should not be paraphrase\n",
    "for i in range(len(classes)):\n",
    "    print(f\"{classes[i]}: {int(round(not_paraphrase_results[i] * 100))}%\")"
   ]
  },
  {
   "cell_type": "markdown",
   "metadata": {},
   "source": [
    "# News summarization"
   ]
  },
  {
   "cell_type": "code",
   "execution_count": null,
   "metadata": {
    "ExecuteTime": {
     "start_time": "2021-01-17T19:32:21.547Z"
    }
   },
   "outputs": [
    {
     "data": {
      "application/vnd.jupyter.widget-view+json": {
       "model_id": "5b80e76ffa0749eba714a169df9e75de",
       "version_major": 2,
       "version_minor": 0
      },
      "text/plain": [
       "Downloading:   0%|          | 0.00/1.62k [00:00<?, ?B/s]"
      ]
     },
     "metadata": {},
     "output_type": "display_data"
    },
    {
     "data": {
      "application/vnd.jupyter.widget-view+json": {
       "model_id": "f32543f0cc8e45ab93f928f0d49a6047",
       "version_major": 2,
       "version_minor": 0
      },
      "text/plain": [
       "Downloading:   0%|          | 0.00/1.22G [00:00<?, ?B/s]"
      ]
     },
     "metadata": {},
     "output_type": "display_data"
    }
   ],
   "source": [
    "from transformers import pipeline\n",
    "summarizer = pipeline(\"summarization\")"
   ]
  },
  {
   "cell_type": "code",
   "execution_count": null,
   "metadata": {},
   "outputs": [],
   "source": []
  }
 ],
 "metadata": {
  "kernelspec": {
   "display_name": "Python 3",
   "language": "python",
   "name": "python3"
  },
  "language_info": {
   "codemirror_mode": {
    "name": "ipython",
    "version": 3
   },
   "file_extension": ".py",
   "mimetype": "text/x-python",
   "name": "python",
   "nbconvert_exporter": "python",
   "pygments_lexer": "ipython3",
   "version": "3.7.4"
  },
  "toc": {
   "base_numbering": 1,
   "nav_menu": {},
   "number_sections": true,
   "sideBar": true,
   "skip_h1_title": false,
   "title_cell": "Table of Contents",
   "title_sidebar": "Contents",
   "toc_cell": false,
   "toc_position": {},
   "toc_section_display": true,
   "toc_window_display": false
  }
 },
 "nbformat": 4,
 "nbformat_minor": 4
}
